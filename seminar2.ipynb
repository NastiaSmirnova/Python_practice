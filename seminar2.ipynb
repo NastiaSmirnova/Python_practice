{
 "cells": [
  {
   "cell_type": "markdown",
   "id": "a35ce67f",
   "metadata": {},
   "source": [
    "### Задача 1. Вывести сумму элементов на диагоналях. Матрица всегда квадратная"
   ]
  },
  {
   "cell_type": "code",
   "execution_count": 1,
   "id": "3a0c036d",
   "metadata": {},
   "outputs": [],
   "source": [
    "# Смирнова №1\n",
    "def diagonalSum(mat):\n",
    "    sum=0\n",
    "    for i,j in enumerate(mat):\n",
    "        if i!=len(mat)-i-1:\n",
    "            sum+=j[-(i+1)]\n",
    "            sum+=j[i]\n",
    "        else:\n",
    "            sum+=j[i]\n",
    "    return sum"
   ]
  },
  {
   "cell_type": "code",
   "execution_count": 2,
   "id": "27a52a3b",
   "metadata": {},
   "outputs": [
    {
     "data": {
      "text/plain": [
       "25"
      ]
     },
     "execution_count": 2,
     "metadata": {},
     "output_type": "execute_result"
    }
   ],
   "source": [
    "mat1 = [[1,2,3],\n",
    "       [4,5,6],\n",
    "       [7,8,9]]\n",
    "diagonalSum(mat1)"
   ]
  },
  {
   "cell_type": "code",
   "execution_count": 4,
   "id": "b9a75a73",
   "metadata": {},
   "outputs": [
    {
     "data": {
      "text/plain": [
       "38"
      ]
     },
     "execution_count": 4,
     "metadata": {},
     "output_type": "execute_result"
    }
   ],
   "source": [
    "mat2 = [[1,2,3,3],\n",
    "       [4,5,6,3],\n",
    "       [7,8,9,3],\n",
    "       [1,3,4,5]]\n",
    "diagonalSum(mat2)"
   ]
  },
  {
   "cell_type": "markdown",
   "id": "8218277e",
   "metadata": {},
   "source": [
    "### Задача 2. На входе два отсортированных массива (списка), на выходе получить 1 отсортированный массив. Элементы списка это целые числа\n"
   ]
  },
  {
   "cell_type": "code",
   "execution_count": 29,
   "id": "8a3a9f7b",
   "metadata": {},
   "outputs": [],
   "source": [
    "def merge(first, second):\n",
    "    res=[]\n",
    "    i=0\n",
    "    j=0\n",
    "    if len(first)==0:\n",
    "        return second\n",
    "    elif len(second)==0:\n",
    "        return first\n",
    "    else:\n",
    "        while i<len(first) and j<len(first):\n",
    "            if first[i]<=second[j]:\n",
    "                res.append(first[i])\n",
    "                i+=1\n",
    "            else:\n",
    "                res.append(second[j])\n",
    "                j+=1\n",
    "        if i==len(first):\n",
    "            res.extend(second[j:])\n",
    "        else:\n",
    "            res.extend(first[i:])\n",
    "    return res"
   ]
  },
  {
   "cell_type": "code",
   "execution_count": 30,
   "id": "e48d89ce",
   "metadata": {},
   "outputs": [
    {
     "data": {
      "text/plain": [
       "[1, 20, 30, 30, 40]"
      ]
     },
     "execution_count": 30,
     "metadata": {},
     "output_type": "execute_result"
    }
   ],
   "source": [
    "first = [1, 20, 30]\n",
    "second = [30, 40]\n",
    "\n",
    "merge(first, second)"
   ]
  },
  {
   "cell_type": "markdown",
   "id": "592aec71",
   "metadata": {},
   "source": [
    "### Задача 3. Дан отсортированный список в неубавющем порядке. Вернуть элементы этого списка возведенные в квадрат в неубывающем порядке.  Элементы списка это целые числа"
   ]
  },
  {
   "cell_type": "code",
   "execution_count": 11,
   "id": "42c4ec48",
   "metadata": {},
   "outputs": [],
   "source": [
    "def squares(s):\n",
    "    return sorted([i**2 for i in s])"
   ]
  },
  {
   "cell_type": "code",
   "execution_count": 16,
   "id": "59c64ce0",
   "metadata": {},
   "outputs": [],
   "source": [
    "s = [0, 1, 2, 3, 4, 5]\n",
    "c = [-20, -15, -10, -5]"
   ]
  },
  {
   "cell_type": "code",
   "execution_count": 17,
   "id": "0520722a",
   "metadata": {},
   "outputs": [
    {
     "data": {
      "text/plain": [
       "[0, 1, 4, 9, 16, 25]"
      ]
     },
     "execution_count": 17,
     "metadata": {},
     "output_type": "execute_result"
    }
   ],
   "source": [
    "squares(s)"
   ]
  },
  {
   "cell_type": "code",
   "execution_count": 19,
   "id": "0c11e43d",
   "metadata": {},
   "outputs": [
    {
     "data": {
      "text/plain": [
       "[25, 100, 225, 400]"
      ]
     },
     "execution_count": 19,
     "metadata": {},
     "output_type": "execute_result"
    }
   ],
   "source": [
    "squares(c)"
   ]
  },
  {
   "cell_type": "code",
   "execution_count": null,
   "id": "07e79819",
   "metadata": {},
   "outputs": [],
   "source": [
    "#за O(n)"
   ]
  },
  {
   "cell_type": "code",
   "execution_count": 49,
   "id": "baa14ebb",
   "metadata": {},
   "outputs": [],
   "source": [
    "def squares(s):\n",
    "    k=0\n",
    "    while s[k]<0 and k<len(s)-1:\n",
    "        k+=1\n",
    "    posit = [j**2 for j in s[k:]]\n",
    "    neg = [s[j]**2 for j in range(k-1,-1,-1)]\n",
    "    return merge(posit,neg)"
   ]
  },
  {
   "cell_type": "code",
   "execution_count": 50,
   "id": "6bdf4993",
   "metadata": {},
   "outputs": [
    {
     "data": {
      "text/plain": [
       "[0, 1, 4, 25, 100, 400, 900]"
      ]
     },
     "execution_count": 50,
     "metadata": {},
     "output_type": "execute_result"
    }
   ],
   "source": [
    "s = [-30, -10, -2, 0, 1, 5, 20]\n",
    "squares(s)"
   ]
  },
  {
   "cell_type": "markdown",
   "id": "cf549c34",
   "metadata": {},
   "source": [
    "### Задача 4. Два вложенных цикла"
   ]
  },
  {
   "cell_type": "markdown",
   "id": "248dab50",
   "metadata": {},
   "source": [
    "in:\n",
    "chrs = [\"a\",\"b\",\"b\",\"c\",\"c\",\"c\"]\n",
    "\n",
    "chrs2 = [\"d\",\"a\",\"b\",\"c\"]\n",
    "\n",
    "chrs2 = [\"c\",\"c\",\"c\"]\n",
    "\n",
    "out:\n",
    "\"ab2c3\"\n",
    "\n",
    "\"dabc\"\n",
    "\n",
    "\"c3\""
   ]
  },
  {
   "cell_type": "code",
   "execution_count": 14,
   "id": "b57d8bc8",
   "metadata": {},
   "outputs": [],
   "source": [
    "def compress(elems):\n",
    "    res = \"\"\n",
    "    i, j = 0, 0\n",
    "    count=0\n",
    "    while i < len(elems):\n",
    "        while j < len(elems) and elems[i] == elems[j]:\n",
    "            count+=1\n",
    "            j+=1\n",
    "        if count>1:\n",
    "            res+=str(elems[i])+str(count)\n",
    "        else:\n",
    "            res+=str(elems[i])\n",
    "        print(i,j)\n",
    "        i=j\n",
    "        count=0\n",
    "    return res"
   ]
  },
  {
   "cell_type": "code",
   "execution_count": 15,
   "id": "d55e09c9",
   "metadata": {},
   "outputs": [
    {
     "name": "stdout",
     "output_type": "stream",
     "text": [
      "0 1\n",
      "1 3\n",
      "3 6\n"
     ]
    },
    {
     "data": {
      "text/plain": [
       "'ab2c3'"
      ]
     },
     "execution_count": 15,
     "metadata": {},
     "output_type": "execute_result"
    }
   ],
   "source": [
    "compress([\"a\",\"b\",\"b\",\"c\",\"c\",\"c\"])"
   ]
  },
  {
   "cell_type": "code",
   "execution_count": 12,
   "id": "8fba93e4",
   "metadata": {},
   "outputs": [
    {
     "data": {
      "text/plain": [
       "'dabc'"
      ]
     },
     "execution_count": 12,
     "metadata": {},
     "output_type": "execute_result"
    }
   ],
   "source": [
    "compress([\"d\",\"a\",\"b\",\"c\"])"
   ]
  },
  {
   "cell_type": "code",
   "execution_count": 13,
   "id": "d033d4f2",
   "metadata": {},
   "outputs": [
    {
     "data": {
      "text/plain": [
       "'c3'"
      ]
     },
     "execution_count": 13,
     "metadata": {},
     "output_type": "execute_result"
    }
   ],
   "source": [
    "compress([\"c\",\"c\",\"c\"]) "
   ]
  },
  {
   "cell_type": "code",
   "execution_count": null,
   "id": "326506db",
   "metadata": {},
   "outputs": [],
   "source": []
  }
 ],
 "metadata": {
  "kernelspec": {
   "display_name": "Python 3 (ipykernel)",
   "language": "python",
   "name": "python3"
  },
  "language_info": {
   "codemirror_mode": {
    "name": "ipython",
    "version": 3
   },
   "file_extension": ".py",
   "mimetype": "text/x-python",
   "name": "python",
   "nbconvert_exporter": "python",
   "pygments_lexer": "ipython3",
   "version": "3.9.7"
  }
 },
 "nbformat": 4,
 "nbformat_minor": 5
}
